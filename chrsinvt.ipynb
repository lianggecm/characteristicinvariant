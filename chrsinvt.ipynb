{
 "cells": [
  {
   "cell_type": "markdown",
   "metadata": {
    "collapsed": false
   },
   "source": [
    "\n",
    "This notebook contains all codes necessary to reproduce the study published in the article \"A Characteristic-based constitutive law for dispersed fibers\". The notebook was created using SageMathCloud (SMC) (http://cloud.sagemath.com), which is the best place to run and modify the current code.\n",
    "\n",
    "To run the code on SMC, simply copy this notebook over to SMC. Open the notebook and set the jupyter notebook kernel to SageMath. All source codes were written in Python and the computational engine is SageMath. Here is a tutorial for SageMath: http://doc.sagemath.org/html/en/tutorial/index.html\n",
    "\n",
    "<img src=\"set_kernel.png\" style=\"width:500px\">\n",
    "<center><figcaption> Set the kernel to SageMath</figcaption></center>\n",
    "\n",
    "<img src=\"run_cells.png\" style=\"width:500px\">\n",
    "<center><figcaption> Execute all codes in this notebook </figcaption></center>\n",
    "\n",
    "Copyright &copy; Liang Ge (liang.ge@gmail.com)\n",
    "\n",
    "\n",
    "In this analysis we assumed the mean fiber direction is along the $x$ axis. Two Eulerian angles $\\Theta$ and $\\Phi$ define the fiber direction vector, $e_f=(\\cos(\\Theta), \\sin(\\Theta)\\cos(\\Phi), \\sin(\\Theta)\\sin(\\Phi))$.\n",
    "\n",
    "<img src=\"coords.png\" style=\"width:400px\">\n",
    "<center><figcaption> Fig. 1 Fiber direction vector $e_f$ defined by two Eulerian angles $\\Theta$ and $\\Phi$</figcaption></center>\n",
    "\n",
    "The fiber stretching ratio after deformation is $\\lambda_f=\\textbf{C}:e_i\\otimes e_j$, where $\\textbf{C}$ is the right Cauchy-Green deformation tensor and is linked to the deformation gradient tensor $\\textbf{F}$ as $\\textbf{C}=\\textbf{F}^T \\textbf{F}$.\n",
    "\n",
    "The fiber family was assumed to have a $\\pi$ periodic von-Mises distribution:\n",
    "\\begin{equation}\n",
    "\\varrho(\\Theta)=4\\sqrt{\\frac{b}{2\\pi}}\\frac{\\displaystyle{e^{b\\cos(2\\Theta)+b}}}{\\text{erfi}(\\sqrt{2b})} \n",
    "\\end{equation}\n",
    "\n",
    "The characteristic invariant is defined as\n",
    "\\begin{align}\n",
    "\\Lambda_2\n",
    "\\end{align}\n",
    "\n",
    "The following cell calculates the integral over $\\Phi$\n",
    "\\begin{equation}\n",
    "g=\\frac{1}{4\\pi}\\int_{\\Phi=0}^{2\\pi} (\\lambda_f^2-1)^2 d\\Phi \n",
    "\\end{equation}"
   ]
  },
  {
   "cell_type": "code",
   "execution_count": 1,
   "metadata": {
    "collapsed": false
   },
   "outputs": [
    {
     "data": {
      "text/html": [
       "<html><script type=\"math/tex; mode=display\">\\newcommand{\\Bold}[1]{\\mathbf{#1}}\\theta_{f} \\ {\\mapsto}\\ \\frac{1}{2} \\, C_{11}^{2} \\cos\\left(\\theta_{f}\\right)^{4} + C_{12}^{2} \\cos\\left(\\theta_{f}\\right)^{2} \\sin\\left(\\theta_{f}\\right)^{2} + C_{13}^{2} \\cos\\left(\\theta_{f}\\right)^{2} \\sin\\left(\\theta_{f}\\right)^{2} + \\frac{3}{16} \\, C_{22}^{2} \\sin\\left(\\theta_{f}\\right)^{4} + \\frac{1}{4} \\, C_{23}^{2} \\sin\\left(\\theta_{f}\\right)^{4} + \\frac{3}{16} \\, C_{33}^{2} \\sin\\left(\\theta_{f}\\right)^{4} - C_{11} \\cos\\left(\\theta_{f}\\right)^{2} + \\frac{1}{2} \\, {\\left(C_{11} \\cos\\left(\\theta_{f}\\right)^{2} \\sin\\left(\\theta_{f}\\right)^{2} - \\sin\\left(\\theta_{f}\\right)^{2}\\right)} C_{22} + \\frac{1}{8} \\, {\\left(4 \\, C_{11} \\cos\\left(\\theta_{f}\\right)^{2} \\sin\\left(\\theta_{f}\\right)^{2} + C_{22} \\sin\\left(\\theta_{f}\\right)^{4} - 4 \\, \\sin\\left(\\theta_{f}\\right)^{2}\\right)} C_{33} + \\frac{1}{2}</script></html>"
      ],
      "text/plain": [
       "theta_f |--> 1/2*C11^2*cos(theta_f)^4 + C12^2*cos(theta_f)^2*sin(theta_f)^2 + C13^2*cos(theta_f)^2*sin(theta_f)^2 + 3/16*C22^2*sin(theta_f)^4 + 1/4*C23^2*sin(theta_f)^4 + 3/16*C33^2*sin(theta_f)^4 - C11*cos(theta_f)^2 + 1/2*(C11*cos(theta_f)^2*sin(theta_f)^2 - sin(theta_f)^2)*C22 + 1/8*(4*C11*cos(theta_f)^2*sin(theta_f)^2 + C22*sin(theta_f)^4 - 4*sin(theta_f)^2)*C33 + 1/2"
      ]
     },
     "metadata": {},
     "output_type": "display_data"
    }
   ],
   "source": [
    "def ef(theta, phi):\n",
    "    # This returns the fiber orientation vector\n",
    "    a=sin(theta)\n",
    "    v=vector([cos(theta), a*cos(phi), a*sin(phi)])\n",
    "    return v\n",
    "\n",
    "def lambda_f(C, theta_f, phi_f):\n",
    "    # This function returns fiber stretch $\\lambda_f^2$ after deformation    \n",
    "        \n",
    "    a=ef(theta_f, phi_f)*C*ef(theta_f, phi_f)\n",
    "\n",
    "    return a\n",
    "    \n",
    "\n",
    "def rhom(theta, phi, b):\n",
    "    # This function returns the pi periodic von Mises distribution without the normalization factor\n",
    "\n",
    "    rho=exp(b*(cos(2*theta)+1))        \n",
    "    return rho\n",
    "\n",
    "def KKK(b):\n",
    "    # This function return the normalization factor for the von Mises distribution function\n",
    "    import scipy.special\n",
    "    erfi=-I*scipy.special.erf(complex(I*sqrt(2*b)))\n",
    "\n",
    "    KKK=1./(4*sqrt(b/2/pi)/erfi)\n",
    "\n",
    "    return KKK\n",
    "    \n",
    "\n",
    "from sage.symbolic.integration.integral import definite_integral\n",
    "\n",
    "# Define right Cauchy-Green deformation tensor\n",
    "var('C11, C12, C13, C21, C22, C23, C31, C32, C33')\n",
    "C=matrix(SR, 3, 3, [[C11, C12, C13], [C12, C22, C23], [C13, C23, C33]])\n",
    "\n",
    "# $\\frac{1}{4\\pi} (\\lambda_f^2-1)^2\n",
    "var('theta_f, phi_f')\n",
    "L_phi(theta_f, phi_f,b,K)=((lambda_f(C, theta_f=theta_f, phi_f=phi_f))-1)^2/4/pi\n",
    "\n",
    "# Integral over Phi from 0 to 2\\pi\n",
    "g(theta_f)=definite_integral(L_phi(theta_f, phi_f), phi_f, 0, 2*pi).simplify_trig()\n",
    "\n",
    "show(g)\n",
    "\n",
    "\n"
   ]
  },
  {
   "cell_type": "markdown",
   "metadata": {},
   "source": [
    "# 1\n",
    "\n",
    "The following cell reorganizes expression $g$ into Eqn. (18)."
   ]
  },
  {
   "cell_type": "code",
   "execution_count": 2,
   "metadata": {
    "collapsed": false
   },
   "outputs": [
    {
     "data": {
      "text/html": [
       "<html><script type=\"math/tex; mode=display\">\\newcommand{\\Bold}[1]{\\mathbf{#1}}\\left[\\frac{1}{2} \\, C_{11}^{2}, \\frac{3}{16} \\, C_{22}^{2} + \\frac{1}{4} \\, C_{23}^{2} + \\frac{1}{8} \\, C_{22} C_{33} + \\frac{3}{16} \\, C_{33}^{2}, C_{12}^{2} + C_{13}^{2} + \\frac{1}{2} \\, C_{11} C_{22} + \\frac{1}{2} \\, C_{11} C_{33}, -C_{11}, -\\frac{1}{2} \\, C_{22} - \\frac{1}{2} \\, C_{33}, \\frac{1}{2}\\right]</script></html>"
      ],
      "text/plain": [
       "[1/2*C11^2,\n",
       " 3/16*C22^2 + 1/4*C23^2 + 1/8*C22*C33 + 3/16*C33^2,\n",
       " C12^2 + C13^2 + 1/2*C11*C22 + 1/2*C11*C33,\n",
       " -C11,\n",
       " -1/2*C22 - 1/2*C33,\n",
       " 1/2]"
      ]
     },
     "metadata": {},
     "output_type": "display_data"
    }
   ],
   "source": [
    "def reorg(func, terms):\n",
    "    tmpfunc=copy(func).simplify_full()\n",
    "    coefs=[]\n",
    "    for each in terms:\n",
    "        coef=tmpfunc.coefficient(each)\n",
    "        coefs.append(coef)\n",
    "        tmpfunc=(tmpfunc-coef*each).simplify_full()\n",
    "    coefs.append(tmpfunc)\n",
    "    return coefs\n",
    "\n",
    "\n",
    "Terms=[cos(theta_f)^4, sin(theta_f)^4, cos(theta_f)^2*sin(theta_f)^2, cos(theta_f)^2, sin(theta_f)^2]\n",
    "M=reorg(g, Terms)\n",
    "show(M)"
   ]
  },
  {
   "cell_type": "markdown",
   "metadata": {},
   "source": [
    "# 2\n",
    "The following cell defines $\\kappa_i$ as a function of $b$ and then creates Fig. 3 (Fig3.png).\n",
    "\n",
    "The function kappas(b, terms, NI) (NI=0,4) correpsonds to $\\kappa_i$ (i=1,5) in Eqn. (21)."
   ]
  },
  {
   "cell_type": "code",
   "execution_count": 3,
   "metadata": {
    "collapsed": true
   },
   "outputs": [],
   "source": [
    "import matplotlib.pyplot as plt\n",
    "from numpy import array\n",
    "from matplotlib.ticker import MultipleLocator, FormatStrFormatter\n",
    "minorLocator   = MultipleLocator(1)\n",
    "from matplotlib import colors\n",
    "from cycler import cycler\n",
    "import matplotlib\n",
    "\n",
    "# \\kappas _ 1 to 5 (NI=0 to 4)\n",
    "def kappas(b,terms,NI):\n",
    "    intgrnd=rhom(theta_f, phi_f, b)*terms[NI]*sin(theta_f)    \n",
    "    return numerical_integral(intgrnd, 0, pi, params=[b])[0]/KKK(b)\n",
    "\n",
    "FF=[]\n",
    "for kI in xrange(5):\n",
    "    FF.append([])\n",
    "    for ni in xrange(11):\n",
    "        b=max(ni,1e-6)\n",
    "        FF[kI].append((b, kappas(b, Terms, kI)))\n",
    "\n",
    "        \n",
    "matplotlib.rcParams.update({'font.size': 15})\n",
    "\n",
    "plt.rc('lines', linewidth=2)\n",
    "\n",
    "fig, ax1=plt.subplots()\n",
    "\n",
    "from scipy import interpolate\n",
    "import numpy as np\n",
    "\n",
    "x1,y1=zip(*FF[0])\n",
    "xnew = np.linspace(np.array(x1).min(),np.array(x1).max(),300)\n",
    "tck = interpolate.splrep(np.array(x1), np.array(y1), s=0)\n",
    "power_smooth = interpolate.splev(xnew, tck, der=0)\n",
    "k1,=ax1.plot(xnew,power_smooth, 'r-', label='$\\kappa_1$')\n",
    "\n",
    "x1,y1=zip(*FF[1])\n",
    "xnew = np.linspace(np.array(x1).min(),np.array(x1).max(),300)\n",
    "tck = interpolate.splrep(np.array(x1), np.array(y1), s=0)\n",
    "power_smooth = interpolate.splev(xnew, tck, der=0)\n",
    "k2,=ax1.plot(xnew,power_smooth, 'g-.', label='$\\kappa_2$', dashes=(8,2,1,2))\n",
    "\n",
    "x1,y1=zip(*FF[2])\n",
    "xnew = np.linspace(np.array(x1).min(),np.array(x1).max(),300)\n",
    "tck = interpolate.splrep(np.array(x1), np.array(y1), s=0)\n",
    "power_smooth = interpolate.splev(xnew, tck, der=0)\n",
    "k3,=ax1.plot(xnew,power_smooth, 'b--', label='$\\kappa_3$', dashes=(10,5))\n",
    "\n",
    "x1,y1=zip(*FF[3])\n",
    "xnew = np.linspace(np.array(x1).min(),np.array(x1).max(),300)\n",
    "tck = interpolate.splrep(np.array(x1), np.array(y1), s=0)\n",
    "power_smooth = interpolate.splev(xnew, tck, der=0)\n",
    "k4,=ax1.plot(xnew,power_smooth, 'c:', label='$\\kappa_4$')\n",
    "\n",
    "x1,y1=zip(*FF[4])\n",
    "xnew = np.linspace(np.array(x1).min(),np.array(x1).max(),300)\n",
    "tck = interpolate.splrep(np.array(x1), np.array(y1), s=0)\n",
    "power_smooth = interpolate.splev(xnew, tck, der=0)\n",
    "k5,=ax1.plot(xnew,power_smooth, 'm-.', label='$\\kappa_5$', dashes=(20,2,1,2))\n",
    "\n",
    "ax1.legend([k1, k2, k3, k4, k5], ['$\\kappa_1$','$\\kappa_2$','$\\kappa_3$','$\\kappa_4$','$\\kappa_5$'], bbox_to_anchor=(0.95, 0.7))\n",
    "ax1.set_ylabel('$\\kappa_{i\\,(i=1,5)}$', fontsize=25)\n",
    "ax1.set_xlabel('$b$', fontsize=25)\n",
    "ax1.xaxis.set_minor_locator(MultipleLocator(1))\n",
    "ax1.yaxis.set_minor_locator(MultipleLocator(2))\n",
    "\n",
    "plt.savefig('Fig3.png')"
   ]
  },
  {
   "cell_type": "markdown",
   "metadata": {},
   "source": [
    "# 3\n",
    "Define shearing and stretching motion and calculate the corresponding right Cauchy-Green deformation tensor"
   ]
  },
  {
   "cell_type": "code",
   "execution_count": 4,
   "metadata": {
    "collapsed": false
   },
   "outputs": [],
   "source": [
    "var('gamma, l1')\n",
    "F_Shearing=matrix(SR, 3, 3, [1, gamma, 0, 0, sqrt(1-gamma^2), 0, 0, 0, 1/sqrt(1-gamma^2)])\n",
    "F_Stretch=matrix(SR, 3, 3, [l1, 0, 0, 0, 1/sqrt(l1), 0, 0, 0, 1/sqrt(l1)])\n",
    "F_Total=F_Shearing*F_Stretch\n",
    "C_Total=F_Total.transpose()*F_Total"
   ]
  },
  {
   "cell_type": "markdown",
   "metadata": {},
   "source": [
    "# 4\n",
    "This cell creates the comparison of strain energy function between direction integration, GST and characteristic invariant approaches, as seen in Figs. (4)-(6). The results are saved in files 'SE_L_???_b_???_k2_??.png'."
   ]
  },
  {
   "cell_type": "code",
   "execution_count": null,
   "metadata": {
    "collapsed": false
   },
   "outputs": [],
   "source": [
    "def Lambda(gamma,l1,b_in, C_in):\n",
    "    \"\"\"\n",
    "    Calculates the characteristic invariant \\Lambda_2 using Eqn. (20)\"\"\"\n",
    "    lmd=1\n",
    "    for ni in xrange(5):\n",
    "        lmd+=M[ni](C11=C_in[0][0], C12=C_in[0][1], C13=C_in[0][2],\n",
    "                   C21=C_in[1][0], C22=C_in[1][1], C23=C_in[1][2],\n",
    "                   C31=C_in[2][0], C32=C_in[2][1], C33=C_in[2][2])*kappas(b_in, Terms, NI=ni)\n",
    "        \n",
    "    return lmd\n",
    "\n",
    "def W_CH(l1_in, b_in, k1, k2):\n",
    "    r\"\"\"\n",
    "    Calculates the strain energy function using the characteristic invariant\"\"\"\n",
    "    W=[]\n",
    "    for ni in range(21):\n",
    "        gamma_in=0.01*ni\n",
    "        lambda_2 = Lambda(gamma_in, l1_in, b_in, C_Total(gamma=gamma_in, l1=l1_in))\n",
    "        W_ch=k1/(2*k2)*(exp(k2*lambda_2)-1)\n",
    "        W.append([gamma_in,W_ch])\n",
    "    return W\n",
    "\n",
    "\n",
    "def strain_energy_DI(b_in, C_in, k1, k2):\n",
    "    r\"\"\"\n",
    "    This function calculates the strain energy function of dispersed fiber family using the direct integration approach\"\"\"\n",
    "    import scipy.integrate\n",
    "\n",
    "    wch_integral(theta_f,phi_f)=((exp(k2*(lambda_f(C=C_in, theta_f=theta_f, phi_f=phi_f)-1)^2)-1)\n",
    "                                 *rhom(theta_f, phi_f,b=b_in))*sin(theta_f)/4/pi*k1/k2/2\n",
    "    W=scipy.integrate.dblquad(wch_integral, 0, 2*pi, lambda x:0, lambda x:pi, epsabs=1e-5, epsrel=1e-5)\n",
    "\n",
    "    return W[0]/KKK(b=b_in)\n",
    "\n",
    "\n",
    "def W_DI(l1_in, b_in, k1, k2):\n",
    "    W=[]\n",
    "    for ni in range(21):\n",
    "        gamma_in = 0.01*ni\n",
    "        W_di=strain_energy_DI(b_in, C_Total(gamma=gamma_in, l1=l1_in), k1, k2)\n",
    "        W.append([gamma_in, W_di])\n",
    "    return W\n",
    "\n",
    "\n",
    "\n",
    "def W_GST(l1_in, b_in, k1, k2):\n",
    "    r\"\"\"\n",
    "    Calculates the strain energy function using the GST invariant\n",
    "    \"\"\"\n",
    "    W=[]\n",
    "    import scipy.integrate\n",
    "    for ni in range(21):\n",
    "        gamma_in=0.01 * ni\n",
    "        lambda_f_gst_itg(x,y)=((lambda_f(C=C_Total(gamma=gamma_in, l1=l1_in), theta_f=x, phi_f=y)-1))*rhom(x, y,b=b_in)*sin(x)/4/pi         \n",
    "        E_i = scipy.integrate.dblquad(lambda_f_gst_itg, 0, 2*pi, lambda x:0, lambda x:pi, epsabs=1e-6, epsrel=1e-6)[0]/ KKK(b=b_in)\n",
    "        W_g=k1/(2*k2)*(exp(k2*E_i^2)-1)\n",
    "        W.append([gamma_in, W_g])\n",
    "    return W\n",
    "\n",
    "def Strain_Energy_Comparison(lll, bbb, k1, k2, Filename):\n",
    "    ppp=[]\n",
    "    labels=['CH', 'DI', 'GST']\n",
    "    psi_ch=W_CH(l1_in=lll,b_in=bbb, k1=k1, k2=k2)\n",
    "    ppp.append(list_plot(psi_ch, color=rainbow(5)[0], plotjoined=True, linestyle=\"--\", marker=\"o\", legend_label=labels[0]))\n",
    "\n",
    "    psi_di=W_DI(l1_in=lll, b_in=bbb, k1=k1, k2=k2)\n",
    "    ppp.append(list_plot(psi_di, color=rainbow(5)[1], plotjoined=True, legend_label=labels[1]))\n",
    "\n",
    "    psi_gst=W_GST(l1_in=lll, b_in=bbb, k1=k1, k2=k2)\n",
    "    ppp.append(list_plot(psi_gst, color=rainbow(5)[2], plotjoined=True, legend_label=labels[2]))\n",
    "\n",
    "    bb=plot(sum(ppp))\n",
    "    bb.save(Filename,legend_loc=\"upper center\")\n",
    "    \n",
    "    \n",
    "\n",
    "import os.path, os\n",
    "\n",
    "LL=[1.0, 1.1, 1.2]\n",
    "Bs=[1., 5., 10.]\n",
    "K2s=[1, 10, 50]\n",
    "\n",
    "for eachl in LL:\n",
    "    for eachb in Bs:\n",
    "        for eachk2 in K2s:\n",
    "            filename='SE_L_%.3s_b_%.4s_k_%.3s.png' %(eachl, eachb, eachk2)\n",
    "            Strain_Energy_Comparison(lll=eachl, bbb=eachb, k1=996, k2=eachk2, Filename=filename)\n",
    "\n"
   ]
  }
 ],
 "metadata": {
  "kernelspec": {
   "display_name": "SageMath 6.10",
   "language": "",
   "name": "sagemath"
  },
  "language_info": {
   "codemirror_mode": {
    "name": "ipython",
    "version": 2
   },
   "file_extension": ".py",
   "mimetype": "text/x-python",
   "name": "python",
   "nbconvert_exporter": "python",
   "pygments_lexer": "ipython2",
   "version": "2.7.10"
  },
  "name": "DispersedFiberModel.ipynb"
 },
 "nbformat": 4,
 "nbformat_minor": 0
}
